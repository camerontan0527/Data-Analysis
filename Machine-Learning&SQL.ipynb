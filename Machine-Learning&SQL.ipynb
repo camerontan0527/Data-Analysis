{
 "cells": [
  {
   "cell_type": "markdown",
   "metadata": {},
   "source": [
    "## Introduction\n",
    "\n"
   ]
  },
  {
   "cell_type": "code",
   "execution_count": 1,
   "metadata": {
    "collapsed": true
   },
   "outputs": [],
   "source": [
    "# IMPORTING FREQUENTLY USED PYTHON MODULES\n",
    "import numpy as np\n",
    "import pandas as pd\n",
    "import seaborn as sns\n",
    "import matplotlib.pyplot as plt\n",
    "import psycopg2\n",
    "import os\n",
    "plt.style.use('seaborn-notebook')\n",
    "%matplotlib inline\n",
    "\n",
    "# JUST TO MAKE SURE SOME WARNINGS ARE IGNORED \n",
    "import warnings\n",
    "warnings.filterwarnings(\"ignore\")"
   ]
  },
  {
   "cell_type": "code",
   "execution_count": 6,
   "metadata": {
    "collapsed": true
   },
   "outputs": [],
   "source": [
    "# IMPORT ANY OTHER REQUIRED MODULES IN THIS CELL\n",
    "from sklearn.model_selection import train_test_split\n",
    "from sklearn.neighbors import KNeighborsClassifier\n",
    "import math\n",
    "from sklearn.cluster import KMeans\n"
   ]
  },
  {
   "cell_type": "markdown",
   "metadata": {},
   "source": [
    "***"
   ]
  },
  {
   "cell_type": "markdown",
   "metadata": {},
   "source": [
    "## Section A - Database Management (15 Marks)\n",
    "\n",
    "You have been given the following database containing 15 tables relating to **DVD Movie Rentals**. The data contained in these tables is as follows -\n",
    "\n",
    "|  **Table**               |  **Data Description**      |\n",
    "|--------------------------|----------------------------|\n",
    "|  actor                   |  actors data including first name and last name     |\n",
    "|  film                    |  films data such as title, release year, length, rating, etc      |\n",
    "|  film_actor              |  stores the relationships between films and actors |\n",
    "|  category                |  stores film’s categories data |\n",
    "|  film_category           |  stores the relationships between films and categories | \n",
    "|  store                   |  store data including manager staff and address |\n",
    "|  inventory               |  stores inventory data |\n",
    "|  rental                  |  stores rental data |\n",
    "|  payment                 |  stores customer's payments |\n",
    "|  staff                   |  stores staff data |\n",
    "|  customer                |  stores customer data |\n",
    "|  address                 |  address data for staff and customers |\n",
    "|  city                    |  stores city data |\n",
    "|  country                 |  stores country data |\n",
    "\n",
    "Visualizing the relations between these tables can be aided by looking at the below **E-R Diagram**.\n",
    "\n",
    "<img src='./dvd_rental_er.png'>\n",
    "\n",
    "Based on your understanding of the relationships between these tables, answer the following questions by writing SQL queries to get the required data rows from the database and display them as a **Pandas dataframe**. "
   ]
  },
  {
   "cell_type": "markdown",
   "metadata": {},
   "source": [
    "***\n",
    "#### **NOTE**:\n",
    "For the following questions, in the CSIT labs you will be able to connect directly to the database using the below code within the notebook. From outside of the CSIT labs, you will need to perform SQL queries in your terminal by using [partch](https://cs.anu.edu.au/docs/student-computing-environment/linuxlabs/remoteaccess/#connectingtopartch3). Once you have the correct query, you may just fill in the boxes below.\n",
    "\n",
    "**Partch Instructions**\n",
    "1. Connect to partch as per the above hyperlink\n",
    "2. In your terminal, enter `psql` to access the sql database\n",
    "3. Enter `\\c dvdrental` to ensure you are accessing the assignment database (or simply specify dvdrental when connecting to the database server -- `psql dvdrental`).\n",
    "4. (Sanity Check) Enter `SELECT * FROM actor;` . If you receive the first row to be \"Penelope Guiness\", you should be good to go !\n",
    "***"
   ]
  },
  {
   "cell_type": "code",
   "execution_count": 3,
   "metadata": {
    "collapsed": true
   },
   "outputs": [],
   "source": [
    "# Connect using psycopg2\n",
    "conn = psycopg2.connect(host=\"/var/run/postgresql\", database=\"dvdrental\")\n",
    "\n",
    "# Activate connection cursor\n",
    "curr = conn.cursor()"
   ]
  },
  {
   "cell_type": "code",
   "execution_count": 4,
   "metadata": {
    "collapsed": true
   },
   "outputs": [],
   "source": [
    "def execute_sql(query):\n",
    "    # Select table and display\n",
    "    curr.execute(query)\n",
    "\n",
    "    # Fetches all the rows from the result of the query\n",
    "    rows = curr.fetchall()\n",
    "    \n",
    "    # Gets the column names for the table\n",
    "    colnames = [desc[0] for desc in curr.description]\n",
    "\n",
    "    # Converts into readable pandas dataframe\n",
    "    df_result = pd.DataFrame(rows, columns=colnames)\n",
    "    return df_result"
   ]
  },
  {
   "cell_type": "markdown",
   "metadata": {},
   "source": [
    "### 1. Write an SQL query to determine the total sales from the rentals of the film 'Affair Prejudice' from the rental store with `store_id = 2`. Your query should result in a single column called `Total Rental Cost` with the value of the total cost of all these rentals.\n",
    "<span style= 'float: right;'><b>[3 marks]</b></span>"
   ]
  },
  {
   "cell_type": "code",
   "execution_count": 5,
   "metadata": {},
   "outputs": [
    {
     "data": {
      "text/html": [
       "<div>\n",
       "<style scoped>\n",
       "    .dataframe tbody tr th:only-of-type {\n",
       "        vertical-align: middle;\n",
       "    }\n",
       "\n",
       "    .dataframe tbody tr th {\n",
       "        vertical-align: top;\n",
       "    }\n",
       "\n",
       "    .dataframe thead th {\n",
       "        text-align: right;\n",
       "    }\n",
       "</style>\n",
       "<table border=\"1\" class=\"dataframe\">\n",
       "  <thead>\n",
       "    <tr style=\"text-align: right;\">\n",
       "      <th></th>\n",
       "      <th>total_rental_cost</th>\n",
       "    </tr>\n",
       "  </thead>\n",
       "  <tbody>\n",
       "    <tr>\n",
       "      <th>0</th>\n",
       "      <td>33.91</td>\n",
       "    </tr>\n",
       "  </tbody>\n",
       "</table>\n",
       "</div>"
      ],
      "text/plain": [
       "  total_rental_cost\n",
       "0             33.91"
      ]
     },
     "execution_count": 5,
     "metadata": {},
     "output_type": "execute_result"
    }
   ],
   "source": [
    "# YOUR QUERY HERE\n",
    "\n",
    "query = \"SELECT SUM(p.amount) AS Total_Rental_Cost FROM payment AS p JOIN (SELECT rental_id FROM rental AS r JOIN (SELECT * FROM inventory WHERE film_id = (SELECT film_id FROM film WHERE title = 'Affair Prejudice') AND store_id = 2) AS t1 ON r.inventory_id = t1.inventory_id) AS t2 ON p.rental_id = t2.rental_id;\"\n",
    "\n",
    "execute_sql(query)"
   ]
  },
  {
   "cell_type": "markdown",
   "metadata": {},
   "source": [
    "### 2. Write an SQL query to retrieve the names of all customers who rented the film ‘Affair Prejudice’ from the store with `store_id = 1`. The result of your query should display each customer's first name and last name. \n",
    "<span style= 'float: right;'><b>[3 marks]</b></span>"
   ]
  },
  {
   "cell_type": "code",
   "execution_count": 6,
   "metadata": {},
   "outputs": [
    {
     "data": {
      "text/html": [
       "<div>\n",
       "<style scoped>\n",
       "    .dataframe tbody tr th:only-of-type {\n",
       "        vertical-align: middle;\n",
       "    }\n",
       "\n",
       "    .dataframe tbody tr th {\n",
       "        vertical-align: top;\n",
       "    }\n",
       "\n",
       "    .dataframe thead th {\n",
       "        text-align: right;\n",
       "    }\n",
       "</style>\n",
       "<table border=\"1\" class=\"dataframe\">\n",
       "  <thead>\n",
       "    <tr style=\"text-align: right;\">\n",
       "      <th></th>\n",
       "      <th>first_name</th>\n",
       "      <th>last_name</th>\n",
       "    </tr>\n",
       "  </thead>\n",
       "  <tbody>\n",
       "    <tr>\n",
       "      <th>0</th>\n",
       "      <td>Vivian</td>\n",
       "      <td>Ruiz</td>\n",
       "    </tr>\n",
       "    <tr>\n",
       "      <th>1</th>\n",
       "      <td>Nina</td>\n",
       "      <td>Soto</td>\n",
       "    </tr>\n",
       "    <tr>\n",
       "      <th>2</th>\n",
       "      <td>Jordan</td>\n",
       "      <td>Archuleta</td>\n",
       "    </tr>\n",
       "    <tr>\n",
       "      <th>3</th>\n",
       "      <td>Danielle</td>\n",
       "      <td>Daniels</td>\n",
       "    </tr>\n",
       "    <tr>\n",
       "      <th>4</th>\n",
       "      <td>Sue</td>\n",
       "      <td>Peters</td>\n",
       "    </tr>\n",
       "    <tr>\n",
       "      <th>5</th>\n",
       "      <td>Michael</td>\n",
       "      <td>Silverman</td>\n",
       "    </tr>\n",
       "    <tr>\n",
       "      <th>6</th>\n",
       "      <td>Jeff</td>\n",
       "      <td>East</td>\n",
       "    </tr>\n",
       "    <tr>\n",
       "      <th>7</th>\n",
       "      <td>Megan</td>\n",
       "      <td>Palmer</td>\n",
       "    </tr>\n",
       "    <tr>\n",
       "      <th>8</th>\n",
       "      <td>Eleanor</td>\n",
       "      <td>Hunt</td>\n",
       "    </tr>\n",
       "    <tr>\n",
       "      <th>9</th>\n",
       "      <td>Natalie</td>\n",
       "      <td>Meyer</td>\n",
       "    </tr>\n",
       "    <tr>\n",
       "      <th>10</th>\n",
       "      <td>Tommy</td>\n",
       "      <td>Collazo</td>\n",
       "    </tr>\n",
       "    <tr>\n",
       "      <th>11</th>\n",
       "      <td>Minnie</td>\n",
       "      <td>Romero</td>\n",
       "    </tr>\n",
       "    <tr>\n",
       "      <th>12</th>\n",
       "      <td>Carmen</td>\n",
       "      <td>Owens</td>\n",
       "    </tr>\n",
       "  </tbody>\n",
       "</table>\n",
       "</div>"
      ],
      "text/plain": [
       "   first_name  last_name\n",
       "0      Vivian       Ruiz\n",
       "1        Nina       Soto\n",
       "2      Jordan  Archuleta\n",
       "3    Danielle    Daniels\n",
       "4         Sue     Peters\n",
       "5     Michael  Silverman\n",
       "6        Jeff       East\n",
       "7       Megan     Palmer\n",
       "8     Eleanor       Hunt\n",
       "9     Natalie      Meyer\n",
       "10      Tommy    Collazo\n",
       "11     Minnie     Romero\n",
       "12     Carmen      Owens"
      ]
     },
     "execution_count": 6,
     "metadata": {},
     "output_type": "execute_result"
    }
   ],
   "source": [
    "# YOUR QUERY HERE\n",
    "\n",
    "query = \"SELECT c.first_name, c.last_name FROM customer AS c JOIN (SELECT r.customer_id FROM rental AS r JOIN (SELECT * FROM inventory WHERE film_id = (SELECT film_id FROM film WHERE title = 'Affair Prejudice') AND store_id = 1) AS t1 ON r.inventory_id = t1.inventory_id) AS t2 ON c.customer_id = t2.customer_id;\"\n",
    "\n",
    "execute_sql(query)"
   ]
  },
  {
   "cell_type": "markdown",
   "metadata": {},
   "source": [
    "### 3. Write an SQL query to retrieve the names of all those customers who have a total of more than 100 dollars in recorded payments. Your query's result should include each customer's first name, last name and customer ID. \n",
    "<span style= 'float: right;'><b>[4 marks]</b></span>"
   ]
  },
  {
   "cell_type": "code",
   "execution_count": 7,
   "metadata": {},
   "outputs": [
    {
     "data": {
      "text/html": [
       "<div>\n",
       "<style scoped>\n",
       "    .dataframe tbody tr th:only-of-type {\n",
       "        vertical-align: middle;\n",
       "    }\n",
       "\n",
       "    .dataframe tbody tr th {\n",
       "        vertical-align: top;\n",
       "    }\n",
       "\n",
       "    .dataframe thead th {\n",
       "        text-align: right;\n",
       "    }\n",
       "</style>\n",
       "<table border=\"1\" class=\"dataframe\">\n",
       "  <thead>\n",
       "    <tr style=\"text-align: right;\">\n",
       "      <th></th>\n",
       "      <th>first_name</th>\n",
       "      <th>last_name</th>\n",
       "      <th>customer_id</th>\n",
       "    </tr>\n",
       "  </thead>\n",
       "  <tbody>\n",
       "    <tr>\n",
       "      <th>0</th>\n",
       "      <td>Mary</td>\n",
       "      <td>Smith</td>\n",
       "      <td>1</td>\n",
       "    </tr>\n",
       "    <tr>\n",
       "      <th>1</th>\n",
       "      <td>Patricia</td>\n",
       "      <td>Johnson</td>\n",
       "      <td>2</td>\n",
       "    </tr>\n",
       "    <tr>\n",
       "      <th>2</th>\n",
       "      <td>Linda</td>\n",
       "      <td>Williams</td>\n",
       "      <td>3</td>\n",
       "    </tr>\n",
       "    <tr>\n",
       "      <th>3</th>\n",
       "      <td>Elizabeth</td>\n",
       "      <td>Brown</td>\n",
       "      <td>5</td>\n",
       "    </tr>\n",
       "    <tr>\n",
       "      <th>4</th>\n",
       "      <td>Maria</td>\n",
       "      <td>Miller</td>\n",
       "      <td>7</td>\n",
       "    </tr>\n",
       "    <tr>\n",
       "      <th>5</th>\n",
       "      <td>Karen</td>\n",
       "      <td>Jackson</td>\n",
       "      <td>13</td>\n",
       "    </tr>\n",
       "    <tr>\n",
       "      <th>6</th>\n",
       "      <td>Helen</td>\n",
       "      <td>Harris</td>\n",
       "      <td>15</td>\n",
       "    </tr>\n",
       "    <tr>\n",
       "      <th>7</th>\n",
       "      <td>Sandra</td>\n",
       "      <td>Martin</td>\n",
       "      <td>16</td>\n",
       "    </tr>\n",
       "    <tr>\n",
       "      <th>8</th>\n",
       "      <td>Sharon</td>\n",
       "      <td>Robinson</td>\n",
       "      <td>20</td>\n",
       "    </tr>\n",
       "    <tr>\n",
       "      <th>9</th>\n",
       "      <td>Michelle</td>\n",
       "      <td>Clark</td>\n",
       "      <td>21</td>\n",
       "    </tr>\n",
       "    <tr>\n",
       "      <th>10</th>\n",
       "      <td>Sarah</td>\n",
       "      <td>Lewis</td>\n",
       "      <td>23</td>\n",
       "    </tr>\n",
       "    <tr>\n",
       "      <th>11</th>\n",
       "      <td>Deborah</td>\n",
       "      <td>Walker</td>\n",
       "      <td>25</td>\n",
       "    </tr>\n",
       "    <tr>\n",
       "      <th>12</th>\n",
       "      <td>Jessica</td>\n",
       "      <td>Hall</td>\n",
       "      <td>26</td>\n",
       "    </tr>\n",
       "    <tr>\n",
       "      <th>13</th>\n",
       "      <td>Shirley</td>\n",
       "      <td>Allen</td>\n",
       "      <td>27</td>\n",
       "    </tr>\n",
       "    <tr>\n",
       "      <th>14</th>\n",
       "      <td>Cynthia</td>\n",
       "      <td>Young</td>\n",
       "      <td>28</td>\n",
       "    </tr>\n",
       "    <tr>\n",
       "      <th>15</th>\n",
       "      <td>Angela</td>\n",
       "      <td>Hernandez</td>\n",
       "      <td>29</td>\n",
       "    </tr>\n",
       "    <tr>\n",
       "      <th>16</th>\n",
       "      <td>Melissa</td>\n",
       "      <td>King</td>\n",
       "      <td>30</td>\n",
       "    </tr>\n",
       "    <tr>\n",
       "      <th>17</th>\n",
       "      <td>Brenda</td>\n",
       "      <td>Wright</td>\n",
       "      <td>31</td>\n",
       "    </tr>\n",
       "    <tr>\n",
       "      <th>18</th>\n",
       "      <td>Amy</td>\n",
       "      <td>Lopez</td>\n",
       "      <td>32</td>\n",
       "    </tr>\n",
       "    <tr>\n",
       "      <th>19</th>\n",
       "      <td>Virginia</td>\n",
       "      <td>Green</td>\n",
       "      <td>35</td>\n",
       "    </tr>\n",
       "    <tr>\n",
       "      <th>20</th>\n",
       "      <td>Martha</td>\n",
       "      <td>Gonzalez</td>\n",
       "      <td>38</td>\n",
       "    </tr>\n",
       "    <tr>\n",
       "      <th>21</th>\n",
       "      <td>Debra</td>\n",
       "      <td>Nelson</td>\n",
       "      <td>39</td>\n",
       "    </tr>\n",
       "    <tr>\n",
       "      <th>22</th>\n",
       "      <td>Amanda</td>\n",
       "      <td>Carter</td>\n",
       "      <td>40</td>\n",
       "    </tr>\n",
       "    <tr>\n",
       "      <th>23</th>\n",
       "      <td>Stephanie</td>\n",
       "      <td>Mitchell</td>\n",
       "      <td>41</td>\n",
       "    </tr>\n",
       "    <tr>\n",
       "      <th>24</th>\n",
       "      <td>Carolyn</td>\n",
       "      <td>Perez</td>\n",
       "      <td>42</td>\n",
       "    </tr>\n",
       "    <tr>\n",
       "      <th>25</th>\n",
       "      <td>Marie</td>\n",
       "      <td>Turner</td>\n",
       "      <td>44</td>\n",
       "    </tr>\n",
       "    <tr>\n",
       "      <th>26</th>\n",
       "      <td>Janet</td>\n",
       "      <td>Phillips</td>\n",
       "      <td>45</td>\n",
       "    </tr>\n",
       "    <tr>\n",
       "      <th>27</th>\n",
       "      <td>Catherine</td>\n",
       "      <td>Campbell</td>\n",
       "      <td>46</td>\n",
       "    </tr>\n",
       "    <tr>\n",
       "      <th>28</th>\n",
       "      <td>Joyce</td>\n",
       "      <td>Edwards</td>\n",
       "      <td>49</td>\n",
       "    </tr>\n",
       "    <tr>\n",
       "      <th>29</th>\n",
       "      <td>Diane</td>\n",
       "      <td>Collins</td>\n",
       "      <td>50</td>\n",
       "    </tr>\n",
       "    <tr>\n",
       "      <th>...</th>\n",
       "      <td>...</td>\n",
       "      <td>...</td>\n",
       "      <td>...</td>\n",
       "    </tr>\n",
       "    <tr>\n",
       "      <th>266</th>\n",
       "      <td>Tyrone</td>\n",
       "      <td>Asher</td>\n",
       "      <td>540</td>\n",
       "    </tr>\n",
       "    <tr>\n",
       "      <th>267</th>\n",
       "      <td>Guy</td>\n",
       "      <td>Brownlee</td>\n",
       "      <td>550</td>\n",
       "    </tr>\n",
       "    <tr>\n",
       "      <th>268</th>\n",
       "      <td>Max</td>\n",
       "      <td>Pitt</td>\n",
       "      <td>553</td>\n",
       "    </tr>\n",
       "    <tr>\n",
       "      <th>269</th>\n",
       "      <td>Jimmie</td>\n",
       "      <td>Eggleston</td>\n",
       "      <td>558</td>\n",
       "    </tr>\n",
       "    <tr>\n",
       "      <th>270</th>\n",
       "      <td>Everett</td>\n",
       "      <td>Banda</td>\n",
       "      <td>559</td>\n",
       "    </tr>\n",
       "    <tr>\n",
       "      <th>271</th>\n",
       "      <td>Jordan</td>\n",
       "      <td>Archuleta</td>\n",
       "      <td>560</td>\n",
       "    </tr>\n",
       "    <tr>\n",
       "      <th>272</th>\n",
       "      <td>Jaime</td>\n",
       "      <td>Nettles</td>\n",
       "      <td>565</td>\n",
       "    </tr>\n",
       "    <tr>\n",
       "      <th>273</th>\n",
       "      <td>Casey</td>\n",
       "      <td>Mena</td>\n",
       "      <td>566</td>\n",
       "    </tr>\n",
       "    <tr>\n",
       "      <th>274</th>\n",
       "      <td>Dave</td>\n",
       "      <td>Gardiner</td>\n",
       "      <td>569</td>\n",
       "    </tr>\n",
       "    <tr>\n",
       "      <th>275</th>\n",
       "      <td>Johnnie</td>\n",
       "      <td>Chisholm</td>\n",
       "      <td>571</td>\n",
       "    </tr>\n",
       "    <tr>\n",
       "      <th>276</th>\n",
       "      <td>Sidney</td>\n",
       "      <td>Burleson</td>\n",
       "      <td>572</td>\n",
       "    </tr>\n",
       "    <tr>\n",
       "      <th>277</th>\n",
       "      <td>Byron</td>\n",
       "      <td>Box</td>\n",
       "      <td>573</td>\n",
       "    </tr>\n",
       "    <tr>\n",
       "      <th>278</th>\n",
       "      <td>Julian</td>\n",
       "      <td>Vest</td>\n",
       "      <td>574</td>\n",
       "    </tr>\n",
       "    <tr>\n",
       "      <th>279</th>\n",
       "      <td>Isaac</td>\n",
       "      <td>Oglesby</td>\n",
       "      <td>575</td>\n",
       "    </tr>\n",
       "    <tr>\n",
       "      <th>280</th>\n",
       "      <td>Morris</td>\n",
       "      <td>Mccarter</td>\n",
       "      <td>576</td>\n",
       "    </tr>\n",
       "    <tr>\n",
       "      <th>281</th>\n",
       "      <td>Clifton</td>\n",
       "      <td>Malcolm</td>\n",
       "      <td>577</td>\n",
       "    </tr>\n",
       "    <tr>\n",
       "      <th>282</th>\n",
       "      <td>Daryl</td>\n",
       "      <td>Larue</td>\n",
       "      <td>579</td>\n",
       "    </tr>\n",
       "    <tr>\n",
       "      <th>283</th>\n",
       "      <td>Andy</td>\n",
       "      <td>Vanhorn</td>\n",
       "      <td>582</td>\n",
       "    </tr>\n",
       "    <tr>\n",
       "      <th>284</th>\n",
       "      <td>Marshall</td>\n",
       "      <td>Thorn</td>\n",
       "      <td>583</td>\n",
       "    </tr>\n",
       "    <tr>\n",
       "      <th>285</th>\n",
       "      <td>Salvador</td>\n",
       "      <td>Teel</td>\n",
       "      <td>584</td>\n",
       "    </tr>\n",
       "    <tr>\n",
       "      <th>286</th>\n",
       "      <td>Perry</td>\n",
       "      <td>Swafford</td>\n",
       "      <td>585</td>\n",
       "    </tr>\n",
       "    <tr>\n",
       "      <th>287</th>\n",
       "      <td>Sergio</td>\n",
       "      <td>Stanfield</td>\n",
       "      <td>587</td>\n",
       "    </tr>\n",
       "    <tr>\n",
       "      <th>288</th>\n",
       "      <td>Marion</td>\n",
       "      <td>Ocampo</td>\n",
       "      <td>588</td>\n",
       "    </tr>\n",
       "    <tr>\n",
       "      <th>289</th>\n",
       "      <td>Tracy</td>\n",
       "      <td>Herrmann</td>\n",
       "      <td>589</td>\n",
       "    </tr>\n",
       "    <tr>\n",
       "      <th>290</th>\n",
       "      <td>Seth</td>\n",
       "      <td>Hannon</td>\n",
       "      <td>590</td>\n",
       "    </tr>\n",
       "    <tr>\n",
       "      <th>291</th>\n",
       "      <td>Kent</td>\n",
       "      <td>Arsenault</td>\n",
       "      <td>591</td>\n",
       "    </tr>\n",
       "    <tr>\n",
       "      <th>292</th>\n",
       "      <td>Terrance</td>\n",
       "      <td>Roush</td>\n",
       "      <td>592</td>\n",
       "    </tr>\n",
       "    <tr>\n",
       "      <th>293</th>\n",
       "      <td>Rene</td>\n",
       "      <td>Mcalister</td>\n",
       "      <td>593</td>\n",
       "    </tr>\n",
       "    <tr>\n",
       "      <th>294</th>\n",
       "      <td>Eduardo</td>\n",
       "      <td>Hiatt</td>\n",
       "      <td>594</td>\n",
       "    </tr>\n",
       "    <tr>\n",
       "      <th>295</th>\n",
       "      <td>Terrence</td>\n",
       "      <td>Gunderson</td>\n",
       "      <td>595</td>\n",
       "    </tr>\n",
       "  </tbody>\n",
       "</table>\n",
       "<p>296 rows × 3 columns</p>\n",
       "</div>"
      ],
      "text/plain": [
       "    first_name  last_name  customer_id\n",
       "0         Mary      Smith            1\n",
       "1     Patricia    Johnson            2\n",
       "2        Linda   Williams            3\n",
       "3    Elizabeth      Brown            5\n",
       "4        Maria     Miller            7\n",
       "5        Karen    Jackson           13\n",
       "6        Helen     Harris           15\n",
       "7       Sandra     Martin           16\n",
       "8       Sharon   Robinson           20\n",
       "9     Michelle      Clark           21\n",
       "10       Sarah      Lewis           23\n",
       "11     Deborah     Walker           25\n",
       "12     Jessica       Hall           26\n",
       "13     Shirley      Allen           27\n",
       "14     Cynthia      Young           28\n",
       "15      Angela  Hernandez           29\n",
       "16     Melissa       King           30\n",
       "17      Brenda     Wright           31\n",
       "18         Amy      Lopez           32\n",
       "19    Virginia      Green           35\n",
       "20      Martha   Gonzalez           38\n",
       "21       Debra     Nelson           39\n",
       "22      Amanda     Carter           40\n",
       "23   Stephanie   Mitchell           41\n",
       "24     Carolyn      Perez           42\n",
       "25       Marie     Turner           44\n",
       "26       Janet   Phillips           45\n",
       "27   Catherine   Campbell           46\n",
       "28       Joyce    Edwards           49\n",
       "29       Diane    Collins           50\n",
       "..         ...        ...          ...\n",
       "266     Tyrone      Asher          540\n",
       "267        Guy   Brownlee          550\n",
       "268        Max       Pitt          553\n",
       "269     Jimmie  Eggleston          558\n",
       "270    Everett      Banda          559\n",
       "271     Jordan  Archuleta          560\n",
       "272      Jaime    Nettles          565\n",
       "273      Casey       Mena          566\n",
       "274       Dave   Gardiner          569\n",
       "275    Johnnie   Chisholm          571\n",
       "276     Sidney   Burleson          572\n",
       "277      Byron        Box          573\n",
       "278     Julian       Vest          574\n",
       "279      Isaac    Oglesby          575\n",
       "280     Morris   Mccarter          576\n",
       "281    Clifton    Malcolm          577\n",
       "282      Daryl      Larue          579\n",
       "283       Andy    Vanhorn          582\n",
       "284   Marshall      Thorn          583\n",
       "285   Salvador       Teel          584\n",
       "286      Perry   Swafford          585\n",
       "287     Sergio  Stanfield          587\n",
       "288     Marion     Ocampo          588\n",
       "289      Tracy   Herrmann          589\n",
       "290       Seth     Hannon          590\n",
       "291       Kent  Arsenault          591\n",
       "292   Terrance      Roush          592\n",
       "293       Rene  Mcalister          593\n",
       "294    Eduardo      Hiatt          594\n",
       "295   Terrence  Gunderson          595\n",
       "\n",
       "[296 rows x 3 columns]"
      ]
     },
     "execution_count": 7,
     "metadata": {},
     "output_type": "execute_result"
    }
   ],
   "source": [
    "# YOUR QUERY HERE\n",
    "\n",
    "query = \"SELECT c.first_name, c.last_name, c.customer_id FROM customer AS c JOIN (SELECT customer_id, SUM(amount) FROM payment GROUP BY customer_id HAVING SUM(amount) > 100) AS t ON c.customer_id = t.customer_id;\"\n",
    "\n",
    "execute_sql(query)"
   ]
  },
  {
   "cell_type": "markdown",
   "metadata": {},
   "source": [
    "### 4. Write an SQL query to retrieve the names of all customers who have rented the movie ‘Angels Life’ from *both* stores with `store_id = 1` and `store_id = 2`. Your query's result should include each customer's first name, last name and customer ID.\n",
    "<span style= 'float: right;'><b>[5 marks]</b></span>"
   ]
  },
  {
   "cell_type": "code",
   "execution_count": 8,
   "metadata": {},
   "outputs": [
    {
     "data": {
      "text/html": [
       "<div>\n",
       "<style scoped>\n",
       "    .dataframe tbody tr th:only-of-type {\n",
       "        vertical-align: middle;\n",
       "    }\n",
       "\n",
       "    .dataframe tbody tr th {\n",
       "        vertical-align: top;\n",
       "    }\n",
       "\n",
       "    .dataframe thead th {\n",
       "        text-align: right;\n",
       "    }\n",
       "</style>\n",
       "<table border=\"1\" class=\"dataframe\">\n",
       "  <thead>\n",
       "    <tr style=\"text-align: right;\">\n",
       "      <th></th>\n",
       "      <th>first_name</th>\n",
       "      <th>last_name</th>\n",
       "      <th>customer_id</th>\n",
       "    </tr>\n",
       "  </thead>\n",
       "  <tbody>\n",
       "    <tr>\n",
       "      <th>0</th>\n",
       "      <td>Cathy</td>\n",
       "      <td>Spencer</td>\n",
       "      <td>163</td>\n",
       "    </tr>\n",
       "  </tbody>\n",
       "</table>\n",
       "</div>"
      ],
      "text/plain": [
       "  first_name last_name  customer_id\n",
       "0      Cathy   Spencer          163"
      ]
     },
     "execution_count": 8,
     "metadata": {},
     "output_type": "execute_result"
    }
   ],
   "source": [
    "# YOUR QUERY HERE\n",
    "\n",
    "query = \"SELECT first_name, last_name, customer_id FROM customer WHERE customer_id IN ((SELECT r.customer_id FROM rental AS r JOIN (SELECT * FROM inventory WHERE film_id = (SELECT film_id FROM film WHERE title = 'Angels Life')) AS t ON r.inventory_id = t.inventory_id WHERE store_id = 1) INTERSECT (SELECT r.customer_id FROM rental AS r JOIN (SELECT * FROM inventory WHERE film_id = (SELECT film_id FROM film WHERE title = 'Angels Life')) AS t ON r.inventory_id = t.inventory_id WHERE store_id = 2));\"\n",
    "\n",
    "execute_sql(query)"
   ]
  },
  {
   "cell_type": "markdown",
   "metadata": {},
   "source": [
    "***"
   ]
  },
  {
   "cell_type": "markdown",
   "metadata": {},
   "source": [
    "## Section B - Data Acquisition (20 Marks)\n",
    "\n",
    "In this section, you need to read and import the data from the database into Python and make it ready to be used by your machine learning algorithms in the next section. **Your task here is to load the required columns from the various appropriate tables in the database to fuel the data required to train your machine learning models in the next section.** You can load the required data into one or more Pandas dataframes, to suit the the needs of different Machine Learning models in Section C. \n",
    "\n",
    "If you fail to do so, or an error in the previous section is preventing you from doing so, we can provide you with a **CSV of the required data**. If you choose to use this CSV, you will not receive any marks for this section, but you'll be able to do the following section without having to spend time on this section.  \n",
    "\n",
    "<span style='color:red;'><b>Note:</b> While you are provided the .csv files to use for development of the later questions at home, you must submit a copy of the code that can read the database to receive marks for this section.</span>\n",
    "<span style= 'float: right;'><b>[20 marks]</b></span>"
   ]
  },
  {
   "cell_type": "code",
   "execution_count": 3,
   "metadata": {},
   "outputs": [
    {
     "data": {
      "text/html": [
       "<div>\n",
       "<style scoped>\n",
       "    .dataframe tbody tr th:only-of-type {\n",
       "        vertical-align: middle;\n",
       "    }\n",
       "\n",
       "    .dataframe tbody tr th {\n",
       "        vertical-align: top;\n",
       "    }\n",
       "\n",
       "    .dataframe thead th {\n",
       "        text-align: right;\n",
       "    }\n",
       "</style>\n",
       "<table border=\"1\" class=\"dataframe\">\n",
       "  <thead>\n",
       "    <tr style=\"text-align: right;\">\n",
       "      <th></th>\n",
       "      <th>ave_length</th>\n",
       "      <th>total_film</th>\n",
       "    </tr>\n",
       "    <tr>\n",
       "      <th>customer_id</th>\n",
       "      <th></th>\n",
       "      <th></th>\n",
       "    </tr>\n",
       "  </thead>\n",
       "  <tbody>\n",
       "    <tr>\n",
       "      <th>1</th>\n",
       "      <td>122.375000</td>\n",
       "      <td>32</td>\n",
       "    </tr>\n",
       "    <tr>\n",
       "      <th>2</th>\n",
       "      <td>113.740741</td>\n",
       "      <td>27</td>\n",
       "    </tr>\n",
       "    <tr>\n",
       "      <th>3</th>\n",
       "      <td>114.269231</td>\n",
       "      <td>26</td>\n",
       "    </tr>\n",
       "    <tr>\n",
       "      <th>4</th>\n",
       "      <td>117.272727</td>\n",
       "      <td>22</td>\n",
       "    </tr>\n",
       "    <tr>\n",
       "      <th>5</th>\n",
       "      <td>119.236842</td>\n",
       "      <td>38</td>\n",
       "    </tr>\n",
       "  </tbody>\n",
       "</table>\n",
       "</div>"
      ],
      "text/plain": [
       "             ave_length  total_film\n",
       "customer_id                        \n",
       "1            122.375000          32\n",
       "2            113.740741          27\n",
       "3            114.269231          26\n",
       "4            117.272727          22\n",
       "5            119.236842          38"
      ]
     },
     "execution_count": 3,
     "metadata": {},
     "output_type": "execute_result"
    }
   ],
   "source": [
    "# YOUR CODE HERE\n",
    "\n",
    "# create dataframe from film, inventory, customer, rental\n",
    "df_film = pd.read_csv('data/dvd_rental/film.csv')\n",
    "df_inventory = pd.read_csv('data/dvd_rental/inventory.csv')\n",
    "df_customer = pd.read_csv('data/dvd_rental/customer.csv')\n",
    "df_rental = pd.read_csv('data/dvd_rental/rental.csv')\n",
    "\n",
    "#merge each dataframe and get the final data of total films rented by customer and the average film length\n",
    "cust_rent = pd.merge(df_customer, df_rental, on = 'customer_id', how = 'inner')\n",
    "cust_rent = cust_rent[['customer_id', 'inventory_id']]\n",
    "\n",
    "cust_ivt = pd.merge(cust_rent, df_inventory, on = 'inventory_id', how = 'inner')\n",
    "cust_ivt = cust_ivt[['customer_id', 'film_id']]\n",
    "\n",
    "cust_film = pd.merge(cust_ivt, df_film, on = 'film_id', how = 'inner')\n",
    "ave_length = cust_film[['customer_id', 'length']]\n",
    "total_film = cust_film[['customer_id', 'film_id']]\n",
    "\n",
    "ave_length = ave_length.groupby(['customer_id']).mean()\n",
    "total_film = total_film.groupby(['customer_id']).count()\n",
    "\n",
    "data = pd.merge(ave_length, total_film, on = 'customer_id', how = 'inner')\n",
    "data.columns = ['ave_length', 'total_film']\n",
    "\n",
    "\n",
    "data.head()\n"
   ]
  },
  {
   "cell_type": "markdown",
   "metadata": {},
   "source": [
    "***"
   ]
  },
  {
   "cell_type": "markdown",
   "metadata": {},
   "source": [
    "## Section C - Machine Learning (55 Marks)\n",
    "<span style='color:purple;'><b>Note:</b> We have provided the .csv outputs for the files to use in these questions if you are working on the assignment at home. Please note if any of these questions refer to those csvs and not the data from Section B in your submitted assignment, you will receive no marks for Section B.</span>"
   ]
  },
  {
   "cell_type": "code",
   "execution_count": 4,
   "metadata": {
    "collapsed": true
   },
   "outputs": [],
   "source": [
    "## Import csv files for home development here as necessary. \n",
    "homework_actor = pd.read_csv(\"data/dvd_rental/actor.csv\")\n",
    "# read in other csvs as necessary."
   ]
  },
  {
   "cell_type": "markdown",
   "metadata": {},
   "source": [
    "### Part 1 - Clustering (25 Marks)"
   ]
  },
  {
   "cell_type": "markdown",
   "metadata": {},
   "source": [
    "### Part 1.1 - Clustering Short Answers (8 Marks)"
   ]
  },
  {
   "cell_type": "markdown",
   "metadata": {},
   "source": [
    "#### 1. Can a Decision Tree be used to perform clustering? If so, explain how. If not, provide a counterexample showing how it is not suitable for the function.\n",
    "<span style= 'float: right;'><b>[4 marks]</b></span>"
   ]
  },
  {
   "cell_type": "markdown",
   "metadata": {},
   "source": [
    "#### <span style=\"color:blue\"> Your answer here: </span>\n",
    "\n",
    "Yes, a Decision Tree can be used to perform clustering. Decision Tree can separate the data by a series of conditions, for example, it can put sample data to different groups according to the value of the data. Each group can set a value range for data, and Decision Tree can then classify each data to the corresponding group."
   ]
  },
  {
   "cell_type": "markdown",
   "metadata": {},
   "source": [
    "#### 2. Will a K-means Clustering Algorithm generate the same results each time? Provide examples on how this may or may not be the case.\n",
    "<span style= 'float: right;'><b>[4 marks]</b></span>"
   ]
  },
  {
   "cell_type": "markdown",
   "metadata": {},
   "source": [
    "#### <span style=\"color:blue\"> Your answer here: </span>\n",
    "\n",
    "No, a K-means Clustering Algorithm will generate similar but not same results each time. This is because of the initialization of k-means. Everytime k-means algorithm will begin with picking random points from the plot, and then do some calculate of the distance between every points and find new centroids. So, because it randomly pick initial points, the final centroids are different but similar."
   ]
  },
  {
   "cell_type": "markdown",
   "metadata": {},
   "source": [
    "### Part 1.2 - K-Means Clustering Implementation (17 Marks)"
   ]
  },
  {
   "cell_type": "markdown",
   "metadata": {},
   "source": [
    "Clustering helps visualise a dataset based on attributes considered important to the data scientist and/or reader.  From the dataset acquired after completing **Section - B**, implement a `K-Means clustering algorithm` to help you cluster the dataset of customers on the basis of the movies they have rented from the DVD rental stores. Various attributes related to the movies such `rating`, `year`, `rental_rate` and `year` may be useful for this exercise. Another interesting attribute that you can look at is the `fulltext` of the movie. In terms of the customer details, you can look at which movies a customer has rented, and the total number of movies rented by a customer. After you've prepared your learning model, plot a **visualization** showing the different clusters. If you have used more than 2 features for your clustering, you are still expected to provide a visualization by reducing the dimensions into a 2D graph.\n",
    "\n",
    "It's upto you to decide how many clusters you would like to incorporate in your model. You are expected to justify all aspects of your implementation including the reasoning behind the choice of **the number of clusters** and **number of iterations** in your model. \n",
    "\n",
    "<span style='color:red;'><b>Note:</b> You are only allowed to use packages that are within the Anaconda distribution.</span>\n",
    "<span style= 'float: right;'><b>[15 marks total: 10 marks model, 5 marks justification & commentary]</b></span>"
   ]
  },
  {
   "cell_type": "code",
   "execution_count": 8,
   "metadata": {},
   "outputs": [
    {
     "data": {
      "text/plain": [
       "<matplotlib.collections.PathCollection at 0x18cd6a50518>"
      ]
     },
     "execution_count": 8,
     "metadata": {},
     "output_type": "execute_result"
    },
    {
     "data": {
      "image/png": "[encoded data removed]",
      "text/plain": [
       "<Figure size 432x288 with 1 Axes>"
      ]
     },
     "metadata": {
      "needs_background": "light"
     },
     "output_type": "display_data"
    }
   ],
   "source": [
    "# YOUR CODE HERE\n",
    "\n",
    "# implement K-Means clustering\n",
    "clf_KMeans = KMeans(n_clusters=3)\n",
    "cluster = clf_KMeans.fit_predict(data)\n",
    "\n",
    "plt.figure()\n",
    "plt.scatter(data['ave_length'], data['total_film'], c = cluster)\n",
    "\n"
   ]
  },
  {
   "cell_type": "code",
   "execution_count": 9,
   "metadata": {},
   "outputs": [
    {
     "name": "stdout",
     "output_type": "stream",
     "text": [
      "k : 1  cost: 51875.59778253499\n",
      "k : 2  cost: 28276.511262869702\n",
      "k : 3  cost: 21141.83767042183\n",
      "k : 4  cost: 16109.195639940059\n",
      "k : 5  cost: 13165.617710852817\n",
      "k : 6  cost: 11262.767112010108\n",
      "k : 7  cost: 9728.846735375817\n",
      "k : 8  cost: 8727.259441874146\n",
      "k : 9  cost: 7970.524331651994\n",
      "k : 10  cost: 7151.368508547355\n",
      "k : 11  cost: 6547.404229665815\n",
      "k : 12  cost: 5901.802981874816\n",
      "k : 13  cost: 5400.464839708404\n",
      "k : 14  cost: 5054.24220479788\n"
     ]
    }
   ],
   "source": [
    "# calculate k\n",
    "for k in range(1, 15):\n",
    "    kmodel = KMeans(n_clusters = k, random_state = 1).fit(data.iloc[:, :])\n",
    "    \n",
    "    labels = kmodel.labels_\n",
    "    \n",
    "    interia = kmodel.inertia_\n",
    "    print(\"k :\", k, \" cost:\", interia)"
   ]
  },
  {
   "cell_type": "markdown",
   "metadata": {},
   "source": [
    "#### <span style=\"color:blue\"> Your justifications & commentary here: </span>\n",
    "\n",
    "For number of k, I used the above method to calculate each k's cost, as k with value change from 1 to 2, the cost has a significant change. But using k = 2 does not have much meaning in this plot. So I used 3 as the value of k.\n",
    "\n",
    "For the number of iterations, I left it the default which is 300 as I compared the iterations with 100, 200, 500, 1000 and found that there were no obvious differences. "
   ]
  },
  {
   "cell_type": "markdown",
   "metadata": {},
   "source": [
    "#### What do your resulting clusters represent?  Explain the distinguishing characteristics of each cluster. \n",
    "<span style= 'float: right;'><b>[2 marks]</b></span>"
   ]
  },
  {
   "cell_type": "markdown",
   "metadata": {},
   "source": [
    "#### <span style=\"color:blue\"> Your answer here: </span>\n",
    "\n",
    "The resulting clusters represent the average films' length of a customer rented."
   ]
  },
  {
   "cell_type": "markdown",
   "metadata": {},
   "source": [
    "***"
   ]
  },
  {
   "cell_type": "markdown",
   "metadata": {},
   "source": [
    "### Part 2 - Classification (30 Marks)\n",
    "\n",
    "The rental company has decided that they want to use simple machine learning to allocate price tags to their movies. The tags are as follows:\n",
    "\n",
    "\n",
    "|  **Classification**      |  **Requirements**        |\n",
    "|--------------------------|------------------------- |\n",
    "|  Cheap                   |  Rental Rate is 0.99   |\n",
    "|  Moderate                |  Rental Rate is 2.99   |\n",
    "|  Expensive               |  Rental Rate is 4.99  |\n",
    "\n",
    "\n",
    "**Your task is to implement a `Classification Algorithm` (such as K-Nearest Neighbours) that can predict the `Price Label` of a movie**. You are required to perform the following tasks:\n",
    "\n",
    "1. Create useable dataset/s by manually determining the 'truth values' for existing data (where the rating is within the classification system defined above)\n",
    "2. Implement an algorithm that can predict the classification as per the above classifications.\n",
    "3. Perform independent testing of the model and provide statistical metrics outlining the performance of your model. Splitting the dataset into testing and training subsets will assist with this.\n",
    "\n",
    "You are welcome to use any features within the dataset, except the `Rental Rate` of the film. Various attributes relating to a movie in the tables `rating`, `movie`, `film_actor`, `actor` and `film_category` can be helpful while making the algorithm. If required, you can also look to make new **compound attributes** that may be helpful in increasing the accuracy of your model.\n",
    "You are expected to justify all aspects of your answer including the features used, the metrics provided and validation system employed. Provide commentary on the strengths and potential pitfalls of the model.\n",
    "\n",
    "<span style='color:red;'><b>Note:</b> You are only allowed to use packages that are within the Anaconda distribution. This means packages such as Keras, Tensorflow etc are not available for use.</span> \n",
    "<span style= 'float: right;'><b>[25 marks total: 18 marks model, 7 marks justification & commentary]</b></span>"
   ]
  },
  {
   "cell_type": "code",
   "execution_count": 47,
   "metadata": {},
   "outputs": [
    {
     "data": {
      "image/png": "[encoded data removed]",
      "text/plain": [
       "<matplotlib.figure.Figure at 0x212e45e09e8>"
      ]
     },
     "metadata": {},
     "output_type": "display_data"
    },
    {
     "name": "stdout",
     "output_type": "stream",
     "text": [
      "\n",
      "When K = 16 , the accuracy has the maximum value 0.51\n"
     ]
    }
   ],
   "source": [
    "# YOUR CODE HERE\n",
    "\n",
    "# create databases from file 'film.csv' & 'film_category.csv'\n",
    "df_film = pd.read_csv(\"data/dvd_rental/film.csv\")\n",
    "df_film_category = pd.read_csv(\"data/dvd_rental/film_category.csv\")\n",
    "\n",
    "# merge the two databases to generate a new one\n",
    "film_data = pd.merge(df_film, df_film_category[['film_id', 'category_id']])\n",
    "\n",
    "# replace values\n",
    "film_data = film_data.replace({'G': 1, 'PG': 2, 'PG-13': 3, 'R': 4, 'NC-17': 5, 0.99: 1, 2.99: 3, 4.99: 5})\n",
    "\n",
    "# add attribute 'feature_cnt' which counts the number of special features in each DVD\n",
    "film_data['feature_cnt'] = film_data['special_features'].apply(lambda s: s.count(',') + 1)\n",
    "\n",
    "# select relevant features and target for the model\n",
    "x = film_data[['rental_duration', 'length', 'replacement_cost', 'rating', 'category_id', 'feature_cnt']]\n",
    "y = film_data['rental_rate']\n",
    "x_train, x_test, y_train, y_test = train_test_split(x, y, test_size = 0.1, random_state = 3)\n",
    "\n",
    "# create an emtpy list accuracies to record accuracy score for different K Neighbors model and calculate accuracy scores\n",
    "accuracies = []\n",
    "for i in range(1, 21):\n",
    "    classifier = KNeighborsClassifier(n_neighbors = i)\n",
    "    classifier.fit(x_train, y_train)\n",
    "    accuracy = classifier.score(x_test, y_test)\n",
    "    accuracies.append(accuracy)\n",
    "\n",
    "# draw accuracy plot\n",
    "df_accuracy = pd.DataFrame()\n",
    "df_accuracy['K'] = np.linspace(1, 20, 20)\n",
    "df_accuracy['Accuracy'] = accuracies\n",
    "plt.plot(df_accuracy['K'], df_accuracy['Accuracy'])\n",
    "plt.title('Accuracy score w.r.t. K neighbors', fontsize = 22)\n",
    "plt.xlabel('Neighbors', fontsize = 18)\n",
    "plt.ylabel('Accuracy', fontsize = 18)\n",
    "plt.show()\n",
    "\n",
    "# print the highest accuracy score and its number of neighbors\n",
    "print('\\nWhen K =', accuracies.index(max(accuracies)) + 1, ', the accuracy has the maximum value', max(accuracies))\n"
   ]
  },
  {
   "cell_type": "markdown",
   "metadata": {},
   "source": [
    "#### <span style=\"color:blue\"> Your justifications & commentary here: </span>\n",
    "\n",
    "*For this question, I select 'rental_duration', 'length', 'replacement_cost', 'rating' and 'category_id' from the original dataset as features in the classification model, since these attributes have direct impact on the quality of movie, which are also relevant to rental rate. And I also create a new compound attribute called 'feature_cnt', which counts how many special features does each DVD contain. This feature increases the abundace of a movie DVD, so it can also be considered relevant to rental rate. I use KNN classification to generate the model, and split date into train data and test data. Then by calculating the accuracy of different model, I select using 16 neighbors to make the prediction since the accuracy score is the highest among all the presented models. Adding this compound feature to the model can increase the prediction accuracy. Before adding the feature to the model, the best model is 16 neighbors as well. However, the accuracy score is 0.49. About the potential pitfall, adding actors data to the model is challenging, since there are multiple actors in each movie, and we cannot decide which actor is popular by the data provided. If a set of data about actor popularity is provided, the model might have a better accuracy score.*"
   ]
  },
  {
   "cell_type": "markdown",
   "metadata": {},
   "source": [
    "#### Would you be able to get a better result, if you had used Clustering as a pre-processing step before Classfication? Justify your answer. \n",
    "<span style= 'float: right;'><b>[5 marks]</b></span>"
   ]
  },
  {
   "cell_type": "markdown",
   "metadata": {},
   "source": [
    "#### <span style=\"color:blue\"> Your answer here: </span>\n",
    "\n",
    "*Yes, I think the model will get a better result if I use clustering as a pre-processing step before classification. Because clustering can make the data to multiple groups. When it comes to the classification process, I can use different classification algorithms to predict different groups of data, which might make the accuracy score to a higher level.*"
   ]
  },
  {
   "cell_type": "markdown",
   "metadata": {},
   "source": [
    "***"
   ]
  },
  {
   "cell_type": "markdown",
   "metadata": {},
   "source": [
    "## Section D - Decision Trees (10 Marks)\n",
    "\n",
    "The following is a small synthetic data set about the weather conditions.  We are\n",
    "going to try and use decision trees to predict whether it will rain or not on the given day.\n",
    "\n",
    "\n",
    "|Temperature| Cloudy| UV Index| Humidity| Rain\n",
    "|---:|--:|--:|--:|--:|\n",
    "|25|No| Low| Low| No \n",
    "|29|No| Low| High| No\n",
    "|26|No| Low| Medium| No\n",
    "|26|No| Medium| Medium| No\n",
    "|27|No| Medium| High| No\n",
    "|28|No| High | High| No\n",
    "|25|No| High |Low| No\n",
    "|29|Yes| Low |Low| Yes\n",
    "|28|No| Medium| High| Yes\n",
    "|28|Yes| Medium| High| Yes\n",
    "|26|No| Low |Low| Yes\n",
    "|27|Yes| Low |High| Yes\n",
    "\n",
    "**Note:**\n",
    "* You can treat temperature as a continuous variable and split on a range of age values.\n",
    "* Attribute selection in the tree uses information gain "
   ]
  },
  {
   "cell_type": "markdown",
   "metadata": {},
   "source": [
    "#### 1. What is the initial entropy of Cloudy?\n",
    "\n",
    "<span style= 'float: right;'><b>[3 marks]</b></span>"
   ]
  },
  {
   "cell_type": "markdown",
   "metadata": {},
   "source": [
    "<span style=\"color:blue\">\n",
    "#### YOUR ANSWER HERE\n",
    "    \n",
    "#The initial entropy of Cloudy is about 0.5623.\n",
    "#The code is shown below\n",
    "</span>"
   ]
  },
  {
   "cell_type": "code",
   "execution_count": 18,
   "metadata": {},
   "outputs": [
    {
     "name": "stdout",
     "output_type": "stream",
     "text": [
      "0.5623351446188083\n"
     ]
    }
   ],
   "source": [
    "Y = 3/12 \n",
    "N = 9/12  \n",
    "#Y = possibility of being cloudy in the given table\n",
    "#N = possibility of not being cloudy in the given table\n",
    "H = - Y * math.log(Y) - N * math.log(N)\n",
    "print(H)"
   ]
  },
  {
   "cell_type": "markdown",
   "metadata": {},
   "source": [
    "#### 2. Which attribute would you choose to place at the root of a decision tree? Why?\n",
    "\n",
    "<span style= 'float: right;'><b>[3 marks]</b></span>"
   ]
  },
  {
   "cell_type": "markdown",
   "metadata": {},
   "source": [
    "<span style=\"color:blue\">\n",
    "    \n",
    "#### YOUR ANSWER HERE\n",
    "\n",
    "#I decided to choose cloudy as the attritute at the root.\n",
    "#Clouds are made up of tiny water droplets; and when these droplets grow they eventually become too heavy to say suspended in the sky, and fall to the ground as rain. Plus, according to the data provided above, when the weather condition is cloudy, it is also a rainy day. Other attributes do not have such a dependency relationship with rainy condition. Consequently, cloudy might be the best choice of attribute at the root.\n",
    "</span>"
   ]
  },
  {
   "cell_type": "markdown",
   "metadata": {},
   "source": [
    "#### 3. Calculate and specify the information gain of the attribute you chose in the previous question.\n",
    "\n",
    "<span style= 'float: right;'><b>[4 marks]</b></span>"
   ]
  },
  {
   "cell_type": "markdown",
   "metadata": {},
   "source": [
    "<span style=\"color:blue\">\n",
    "    \n",
    "#### YOUR ANSWER HERE\n",
    "\n",
    "#The information gain is about 0.2819\n",
    "#The code is shown below\n",
    "</span>"
   ]
  },
  {
   "cell_type": "code",
   "execution_count": 30,
   "metadata": {},
   "outputs": [
    {
     "data": {
      "text/plain": [
       "0.28191361669828474"
      ]
     },
     "execution_count": 30,
     "metadata": {},
     "output_type": "execute_result"
    }
   ],
   "source": [
    "C = Y # Cloudy -- Cloudy(Yes) days in the given table\n",
    "NC = N #not Cloudy -- Cloudy(No) days in the given table\n",
    "H_C = H # emtropy of cloudy -- H(C)\n",
    "\n",
    "H_cloudyisraining = - 3/5 * math.log(3/5) - 2/5 * math.log(2/5)\n",
    "\n",
    "#H_cloudynotraining = - 0/7 * math.log(0/7) - 7/7 * math.log(7/7)\n",
    "H_cloudynotraining = - math.log(1)\n",
    "\n",
    "IG = H_C - 5/12 * H_cloudyisraining - 7/12 * H_cloudynotraining\n",
    "IG"
   ]
  }
 ],
 "metadata": {
  "kernelspec": {
   "display_name": "Python 3",
   "language": "python",
   "name": "python3"
  },
  "language_info": {
   "codemirror_mode": {
    "name": "ipython",
    "version": 3
   },
   "file_extension": ".py",
   "mimetype": "text/x-python",
   "name": "python",
   "nbconvert_exporter": "python",
   "pygments_lexer": "ipython3",
   "version": "3.6.1"
  }
 },
 "nbformat": 4,
 "nbformat_minor": 2
}
